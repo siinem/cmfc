{
  "nbformat": 4,
  "nbformat_minor": 0,
  "metadata": {
    "colab": {
      "provenance": [],
      "gpuType": "T4"
    },
    "kernelspec": {
      "name": "python3",
      "display_name": "Python 3"
    },
    "language_info": {
      "name": "python"
    },
    "accelerator": "GPU"
  },
  "cells": [
    {
      "cell_type": "markdown",
      "source": [
        "**PRINT FUNCTION**\n",
        "\n",
        "print \"Hello world!\" on the monitor"
      ],
      "metadata": {
        "id": "r00s25JC6f2I"
      }
    },
    {
      "cell_type": "code",
      "source": [],
      "metadata": {
        "id": "9Fh8YQ8f6xdj"
      },
      "execution_count": 7,
      "outputs": []
    },
    {
      "cell_type": "markdown",
      "source": [
        "**COMMENTS**"
      ],
      "metadata": {
        "id": "VdHgVDAi6kGg"
      }
    },
    {
      "cell_type": "code",
      "source": [
        "# COMMENTS:\n",
        "# A comment in a computer program is text that is intended only for the human reader\n",
        "# - it is completely ignored by the interpreter."
      ],
      "metadata": {
        "id": "RIEW_5ItuB_i"
      },
      "execution_count": null,
      "outputs": []
    },
    {
      "cell_type": "markdown",
      "source": [
        "**TYPE FUNCTION:**\n",
        "It is frequently necessary to check to see what type of data a variable is. To identify this, you can use the built-in function type in Python.\n"
      ],
      "metadata": {
        "id": "lUyYPaZs3C9u"
      }
    },
    {
      "cell_type": "code",
      "source": [
        "type(\"this is a string...\")"
      ],
      "metadata": {
        "id": "TjB_6z2dHt43"
      },
      "execution_count": null,
      "outputs": []
    },
    {
      "cell_type": "code",
      "source": [
        "type(3)"
      ],
      "metadata": {
        "colab": {
          "base_uri": "https://localhost:8080/"
        },
        "id": "eISr8s773PwQ",
        "outputId": "c067af61-7b15-4201-d6af-aa03987b0f43"
      },
      "execution_count": null,
      "outputs": [
        {
          "output_type": "execute_result",
          "data": {
            "text/plain": [
              "int"
            ]
          },
          "metadata": {},
          "execution_count": 1
        }
      ]
    },
    {
      "cell_type": "markdown",
      "source": [
        "**VARIABLES:**\n"
      ],
      "metadata": {
        "id": "q4LghLDb2yWT"
      }
    },
    {
      "cell_type": "code",
      "source": [
        "author = \"William Mattingly\"\n"
      ],
      "metadata": {
        "id": "cA3D5v592KzK"
      },
      "execution_count": null,
      "outputs": []
    },
    {
      "cell_type": "markdown",
      "source": [
        "Print the author name"
      ],
      "metadata": {
        "id": "IKMwLRq6pJUg"
      }
    },
    {
      "cell_type": "markdown",
      "source": [
        "Print: Hello, William Mattingly!"
      ],
      "metadata": {
        "id": "45VukchApN0-"
      }
    },
    {
      "cell_type": "code",
      "source": [],
      "metadata": {
        "id": "1PXG-X1B25lg"
      },
      "execution_count": null,
      "outputs": []
    },
    {
      "cell_type": "code",
      "source": [],
      "metadata": {
        "id": "QMQAPlZf2u5T"
      },
      "execution_count": null,
      "outputs": []
    },
    {
      "cell_type": "markdown",
      "source": [
        "**STRINGS:**"
      ],
      "metadata": {
        "id": "SQ2ATwoJ320s"
      }
    },
    {
      "cell_type": "code",
      "source": [
        "a = \"this is a string\"\n",
        "b = \"this is also a string\"\n",
        "\n",
        "# What does c = a+b do?\n",
        "# What is the type of c?\n"
      ],
      "metadata": {
        "colab": {
          "base_uri": "https://localhost:8080/"
        },
        "id": "1N8eBszK3B8O",
        "outputId": "4a26ee57-105d-4569-b268-80131ab5b7e5"
      },
      "execution_count": null,
      "outputs": [
        {
          "output_type": "stream",
          "name": "stdout",
          "text": [
            "this is a stringthis is also a string\n"
          ]
        },
        {
          "output_type": "execute_result",
          "data": {
            "text/plain": [
              "str"
            ]
          },
          "metadata": {},
          "execution_count": 3
        }
      ]
    },
    {
      "cell_type": "code",
      "source": [
        "name = \"Harry\"\n",
        "# 1. Print the length of name.\n",
        "# Hint: len(x) gives the length of x\n",
        "\n",
        "# 2. Print each character of name\n",
        "\n",
        "\n",
        "\n"
      ],
      "metadata": {
        "colab": {
          "base_uri": "https://localhost:8080/"
        },
        "id": "zITnl-Cw79fY",
        "outputId": "207c24d0-55b7-4533-f831-71013a98511a"
      },
      "execution_count": null,
      "outputs": [
        {
          "output_type": "stream",
          "name": "stdout",
          "text": [
            "Harry has length 5\n"
          ]
        }
      ]
    },
    {
      "cell_type": "code",
      "source": [],
      "metadata": {
        "id": "Ekncrmuv8EGR"
      },
      "execution_count": null,
      "outputs": []
    },
    {
      "cell_type": "markdown",
      "source": [
        "**EXERCISE**"
      ],
      "metadata": {
        "id": "LgnXsZRr4db7"
      }
    },
    {
      "cell_type": "code",
      "source": [
        "# Write a Python program which accepts the user's first and last name and print them in reverse order with a space between them.\n",
        "# - - - - - - - - - - - - - - -\n",
        "# INPUT\n",
        "# Two strings, the name and the surname of a user respectively.\n",
        "# Hint: you can read user input by : input(\"Enter your name: \")\n",
        "# - - - - - - - - - - - - - - -\n",
        "# OUTPUT\n",
        "# A string resulting from the concatenation of surname and name (with a space between them).\n",
        "# - - - - - - - - - - - - - - -\n",
        "# EXAMPLE\n",
        "# Given as inputs the string \"Martina\" (name) and the string \"Olliaro\" (surname), the program should return the string: \"Olliaro Martina\"\n",
        "\n"
      ],
      "metadata": {
        "id": "B_Se8k_xwHQd"
      },
      "execution_count": null,
      "outputs": []
    },
    {
      "cell_type": "code",
      "source": [
        "# Write a Python program to get a string from a given string where all occurrences\n",
        "# of its first character have been changed to '$', except the first char itself.\n",
        "# - - - - - - - - - - - - - - -\n",
        "# EXAMPLE\n",
        "# Given the string \"mamma\", the program returns the string: \"ma$$a\".\n",
        "# Hint: replace() function\n",
        "\n",
        "word = input(\"Enter a word: \")\n",
        "\n",
        "# ...\n"
      ],
      "metadata": {
        "id": "XqO1sie64m3_"
      },
      "execution_count": null,
      "outputs": []
    },
    {
      "cell_type": "code",
      "source": [
        "# - - - - - - - - - - - - - - -\n",
        "# EXAMPLE\n",
        "# Given as inputs the string \"Hello\" and the string \"World!\", the program returns the string: \"Wollo Herld!\"\n",
        "\n"
      ],
      "metadata": {
        "id": "FsgM4cMNwhlP"
      },
      "execution_count": null,
      "outputs": []
    },
    {
      "cell_type": "code",
      "source": [
        "# Write a Python program to find the first appearance of the\n",
        "# substring 'not' and 'poor' from a given string (You can try input the following string: 'He is not poor' and \"He is poor\").\n",
        "# If 'not' precedes the 'poor', replace the whole 'not'...'poor'\n",
        "# substring with 'good'.\n"
      ],
      "metadata": {
        "id": "AQOIx4G4Ie8K",
        "outputId": "c92ffc90-8a8f-452a-beac-67f68defaf9a",
        "colab": {
          "base_uri": "https://localhost:8080/"
        }
      },
      "execution_count": 10,
      "outputs": [
        {
          "output_type": "stream",
          "name": "stdout",
          "text": [
            "Enter a string: he is not poor\n",
            "he is good\n"
          ]
        }
      ]
    },
    {
      "cell_type": "markdown",
      "source": [
        "**LISTS**"
      ],
      "metadata": {
        "id": "kersIsNAClgB"
      }
    },
    {
      "cell_type": "code",
      "source": [
        "#Common error: Out of Range\n",
        "values = [2, 12, 30, 27]\n",
        "print(values[0])"
      ],
      "metadata": {
        "id": "GlrVpcNJCnfa"
      },
      "execution_count": null,
      "outputs": []
    },
    {
      "cell_type": "code",
      "source": [
        "values = [2, 12, 30, 27]\n",
        "print(values)"
      ],
      "metadata": {
        "id": "6Bg5FyhwCx8o"
      },
      "execution_count": null,
      "outputs": []
    },
    {
      "cell_type": "code",
      "source": [
        "#Operations on lists:\n",
        "names = [ ]\n",
        "names.append(\"Martina\")\n",
        "print(names)\n",
        "names.append(\"Eleonora\")\n",
        "print(names)"
      ],
      "metadata": {
        "colab": {
          "base_uri": "https://localhost:8080/"
        },
        "id": "Q86TGc0VC3wV",
        "outputId": "5b8d4264-332a-4a4f-ddf2-224a3aa7158f"
      },
      "execution_count": null,
      "outputs": [
        {
          "output_type": "stream",
          "name": "stdout",
          "text": [
            "['Martina']\n",
            "['Martina', 'Eleonora']\n"
          ]
        }
      ]
    },
    {
      "cell_type": "code",
      "source": [
        "#Find an element:\n",
        "names = [\"Martina\", \"Andrea\", \"Eleonora\"]\n",
        "if \"Martina\" in names :\n",
        "  print(\"The name Martina is present.\")"
      ],
      "metadata": {
        "colab": {
          "base_uri": "https://localhost:8080/"
        },
        "id": "y9QlzCLtDB1R",
        "outputId": "aca9a2f6-980b-4411-efd5-a63a9c888fc8"
      },
      "execution_count": null,
      "outputs": [
        {
          "output_type": "stream",
          "name": "stdout",
          "text": [
            "The name Martina is present.\n"
          ]
        }
      ]
    },
    {
      "cell_type": "code",
      "source": [
        "# Concatenate two lists below into newlist and print the concatenated list\n",
        "names1 = [\"Martina\", \"Andrea\", \"Eleonora\"]\n",
        "names2 = [\"Marco\", \"Gianluca\", \"Diletta\"]\n"
      ],
      "metadata": {
        "id": "hJ4BE4SfDN0Q"
      },
      "execution_count": null,
      "outputs": []
    },
    {
      "cell_type": "code",
      "source": [
        "#Sum, find maximum and minimum of data below\n",
        "numbers = [10, 6, 1]\n",
        "names = [\"Martina\", \"Andrea\", \"Eleonora\"]\n",
        "\n"
      ],
      "metadata": {
        "id": "K0Tc6Bl4DdvE"
      },
      "execution_count": null,
      "outputs": []
    },
    {
      "cell_type": "code",
      "source": [
        "#CREDITS: Alfio Ferrara\n",
        "# !wget: used to download files directly from a URL to your Colab environment.\n",
        "\n",
        "!wget https://raw.githubusercontent.com/umilISLab/midh/main/data/parole_italiane.txt\n",
        "\n",
        "infile = open('parole_italiane.txt', 'r')\n",
        "content = infile.read()\n",
        "words = content.split('\\n')\n",
        "\n",
        "len(words)\n",
        "\n",
        "\n"
      ],
      "metadata": {
        "id": "tXjVwpYk7VpY",
        "outputId": "850e2776-da78-4376-dd6d-e0696a81b562",
        "colab": {
          "base_uri": "https://localhost:8080/"
        }
      },
      "execution_count": 13,
      "outputs": [
        {
          "output_type": "stream",
          "name": "stdout",
          "text": [
            "--2024-10-03 13:59:53--  https://raw.githubusercontent.com/umilISLab/midh/main/data/parole_italiane.txt\n",
            "Resolving raw.githubusercontent.com (raw.githubusercontent.com)... 185.199.108.133, 185.199.109.133, 185.199.110.133, ...\n",
            "Connecting to raw.githubusercontent.com (raw.githubusercontent.com)|185.199.108.133|:443... connected.\n",
            "HTTP request sent, awaiting response... 200 OK\n",
            "Length: 53119 (52K) [text/plain]\n",
            "Saving to: ‘parole_italiane.txt.3’\n",
            "\n",
            "\rparole_italiane.txt   0%[                    ]       0  --.-KB/s               \rparole_italiane.txt 100%[===================>]  51.87K  --.-KB/s    in 0.008s  \n",
            "\n",
            "2024-10-03 13:59:53 (6.37 MB/s) - ‘parole_italiane.txt.3’ saved [53119/53119]\n",
            "\n"
          ]
        },
        {
          "output_type": "execute_result",
          "data": {
            "text/plain": [
              "5001"
            ]
          },
          "metadata": {},
          "execution_count": 13
        }
      ]
    },
    {
      "cell_type": "code",
      "source": [
        "\n",
        "# 1. print the type of the list\n",
        "# 2. print last word of the list\n",
        "# 3. print the length of the list\n",
        "# 4. delete the last word from the words list and repeat 1 to 3.\n",
        "\n"
      ],
      "metadata": {
        "id": "KkdmUrPBrRt6",
        "outputId": "41aec95d-72d2-43b9-ae60-25a1e87e51cf",
        "colab": {
          "base_uri": "https://localhost:8080/"
        }
      },
      "execution_count": 15,
      "outputs": [
        {
          "output_type": "execute_result",
          "data": {
            "text/plain": [
              "4999"
            ]
          },
          "metadata": {},
          "execution_count": 15
        }
      ]
    },
    {
      "cell_type": "markdown",
      "source": [
        "**NUMBERS**"
      ],
      "metadata": {
        "id": "__FvhLkA7Jp9"
      }
    },
    {
      "cell_type": "code",
      "source": [
        "a = \"8\"\n",
        "b = 4\n",
        "c = b + a"
      ],
      "metadata": {
        "id": "rPone-Vj7Iyh"
      },
      "execution_count": null,
      "outputs": []
    },
    {
      "cell_type": "code",
      "source": [
        "a, b = 5, 6"
      ],
      "metadata": {
        "id": "ygsZolWD7Px3"
      },
      "execution_count": null,
      "outputs": []
    },
    {
      "cell_type": "code",
      "source": [
        "# EXERCISE:\n",
        "# Write a Python program which accepts the radius of a circle from the user and compute the area.\n",
        "\n",
        "from math import pi\n",
        "\n",
        "radius = float(input(\"Enter the radius of the circle: \"))\n",
        "\n"
      ],
      "metadata": {
        "colab": {
          "base_uri": "https://localhost:8080/"
        },
        "id": "jlXo0FT3uKEy",
        "outputId": "22b1a448-85a2-41c3-e8fd-e0c256992c37"
      },
      "execution_count": null,
      "outputs": [
        {
          "output_type": "stream",
          "name": "stdout",
          "text": [
            "Enter the radius of the circle: 50\n",
            "The area of the circle with radius  50.0  is:  7853.981633974483\n"
          ]
        }
      ]
    },
    {
      "cell_type": "code",
      "source": [
        "# Write a Python program to check whether the last digit of a number\n",
        "# (entered by user) is divisible by 3 or not.\n",
        "\n",
        "# Assumption: only integers can be taken as input\n",
        "num = int(input(\"Enter an integer number: \"))\n",
        "\n",
        "# Computes the last digit of a number\n",
        "# Any number % 10 will return the last digit\n",
        "lastDigit = num % 10\n",
        "\n"
      ],
      "metadata": {
        "id": "zpTMr725IUZP"
      },
      "execution_count": null,
      "outputs": []
    },
    {
      "cell_type": "markdown",
      "source": [
        "**LOOPS**"
      ],
      "metadata": {
        "id": "JKiunQVtD7wl"
      }
    },
    {
      "cell_type": "code",
      "source": [
        "x = 0\n",
        "while x < 10:\n",
        "    print(x)\n",
        "    x += 1\n",
        "print('fine')"
      ],
      "metadata": {
        "id": "cI_uEc7UD9Tg"
      },
      "execution_count": null,
      "outputs": []
    },
    {
      "cell_type": "code",
      "source": [
        "s = 0\n",
        "for x in words:\n",
        "    c = len(x)\n",
        "    s += c\n",
        "print(s / len(words))"
      ],
      "metadata": {
        "id": "BuENTd_FEBLB"
      },
      "execution_count": null,
      "outputs": []
    },
    {
      "cell_type": "markdown",
      "source": [
        "**ELIF STRUCTURE**"
      ],
      "metadata": {
        "id": "MQoIbbODEFn9"
      }
    },
    {
      "cell_type": "code",
      "source": [
        "x = 0\n",
        "if x > 0:\n",
        "    print('Positive number')\n",
        "elif x == 0:\n",
        "    print('Zero')\n",
        "else:\n",
        "    print('Negative number')"
      ],
      "metadata": {
        "id": "0BpY2J07EEaJ"
      },
      "execution_count": null,
      "outputs": []
    },
    {
      "cell_type": "markdown",
      "source": [
        "**DICTIONARIES**"
      ],
      "metadata": {
        "id": "7D5aofEyIJDS"
      }
    },
    {
      "cell_type": "code",
      "source": [
        "\n",
        "# check if Martina is in the list and then print the phone number of Martina from the list:\n",
        "contacts = {\"Martina\": 329, \"Eleonora\": 427, \"Andrea\": 782}\n",
        "\n"
      ],
      "metadata": {
        "colab": {
          "base_uri": "https://localhost:8080/"
        },
        "id": "Cb4uRlOYIM-K",
        "outputId": "1282e4f7-0e4b-4005-a291-c160851f19fe"
      },
      "execution_count": null,
      "outputs": [
        {
          "output_type": "stream",
          "name": "stdout",
          "text": [
            "The phone number of Martina is 329\n"
          ]
        }
      ]
    },
    {
      "cell_type": "code",
      "source": [
        "# Add Marco = 563 to the list and print the list\n",
        "\n"
      ],
      "metadata": {
        "colab": {
          "base_uri": "https://localhost:8080/"
        },
        "id": "HM4mJXGUJIhN",
        "outputId": "1264f823-8163-40df-d8c7-e2f7ff9b20d9"
      },
      "execution_count": null,
      "outputs": [
        {
          "output_type": "stream",
          "name": "stdout",
          "text": [
            "{'Martina': 329, 'Eleonora': 427, 'Andrea': 782, 'Marco': 563}\n"
          ]
        }
      ]
    }
  ]
}