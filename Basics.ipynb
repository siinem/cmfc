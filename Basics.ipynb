{
  "nbformat": 4,
  "nbformat_minor": 0,
  "metadata": {
    "colab": {
      "provenance": [],
      "gpuType": "T4",
      "authorship_tag": "ABX9TyNW3EXjKiTtD+Q2bngXBTA3",
      "include_colab_link": true
    },
    "kernelspec": {
      "name": "python3",
      "display_name": "Python 3"
    },
    "language_info": {
      "name": "python"
    },
    "accelerator": "GPU"
  },
  "cells": [
    {
      "cell_type": "markdown",
      "metadata": {
        "id": "view-in-github",
        "colab_type": "text"
      },
      "source": [
        "<a href=\"https://colab.research.google.com/github/siinem/cmfc/blob/main/Basics.ipynb\" target=\"_parent\"><img src=\"https://colab.research.google.com/assets/colab-badge.svg\" alt=\"Open In Colab\"/></a>"
      ]
    },
    {
      "cell_type": "markdown",
      "source": [
        "**PRINT FUNCTION**"
      ],
      "metadata": {
        "id": "r00s25JC6f2I"
      }
    },
    {
      "cell_type": "code",
      "source": [
        "print(\"Hello world!\")"
      ],
      "metadata": {
        "colab": {
          "base_uri": "https://localhost:8080/"
        },
        "id": "9Fh8YQ8f6xdj",
        "outputId": "b84c3e74-4db8-4289-a75e-fdbaa2179bf1"
      },
      "execution_count": null,
      "outputs": [
        {
          "output_type": "stream",
          "name": "stdout",
          "text": [
            "Hello world!\n"
          ]
        }
      ]
    },
    {
      "cell_type": "markdown",
      "source": [
        "**COMMENTS**"
      ],
      "metadata": {
        "id": "VdHgVDAi6kGg"
      }
    },
    {
      "cell_type": "code",
      "source": [
        "# COMMENTS:\n",
        "# A comment in a computer program is text that is intended only for the human reader\n",
        "# - it is completely ignored by the interpreter."
      ],
      "metadata": {
        "id": "RIEW_5ItuB_i"
      },
      "execution_count": null,
      "outputs": []
    },
    {
      "cell_type": "markdown",
      "source": [
        "**TYPE FUNCTION:**\n",
        "It is frequently necessary to check to see what type of data a variable is. To identify this, you can use the built-in function type in Python.\n"
      ],
      "metadata": {
        "id": "lUyYPaZs3C9u"
      }
    },
    {
      "cell_type": "code",
      "source": [
        "type(\"this is a string...\")"
      ],
      "metadata": {
        "id": "TjB_6z2dHt43"
      },
      "execution_count": null,
      "outputs": []
    },
    {
      "cell_type": "code",
      "source": [
        "type(3)"
      ],
      "metadata": {
        "colab": {
          "base_uri": "https://localhost:8080/"
        },
        "id": "eISr8s773PwQ",
        "outputId": "c067af61-7b15-4201-d6af-aa03987b0f43"
      },
      "execution_count": null,
      "outputs": [
        {
          "output_type": "execute_result",
          "data": {
            "text/plain": [
              "int"
            ]
          },
          "metadata": {},
          "execution_count": 1
        }
      ]
    },
    {
      "cell_type": "markdown",
      "source": [
        "**VARIABLES:**\n"
      ],
      "metadata": {
        "id": "q4LghLDb2yWT"
      }
    },
    {
      "cell_type": "code",
      "source": [
        "author = \"William Mattingly\"\n"
      ],
      "metadata": {
        "id": "cA3D5v592KzK"
      },
      "execution_count": null,
      "outputs": []
    },
    {
      "cell_type": "code",
      "source": [
        "print(author)"
      ],
      "metadata": {
        "id": "1PXG-X1B25lg"
      },
      "execution_count": null,
      "outputs": []
    },
    {
      "cell_type": "code",
      "source": [
        "print(f\"Hello, {author}!\")"
      ],
      "metadata": {
        "id": "QMQAPlZf2u5T"
      },
      "execution_count": null,
      "outputs": []
    },
    {
      "cell_type": "markdown",
      "source": [
        "**STRINGS:**"
      ],
      "metadata": {
        "id": "SQ2ATwoJ320s"
      }
    },
    {
      "cell_type": "code",
      "source": [
        "a = \"this is a string\"\n",
        "b = \"this is also a string\"\n",
        "c = a + b\n",
        "type(c)"
      ],
      "metadata": {
        "colab": {
          "base_uri": "https://localhost:8080/"
        },
        "id": "1N8eBszK3B8O",
        "outputId": "4a26ee57-105d-4569-b268-80131ab5b7e5"
      },
      "execution_count": null,
      "outputs": [
        {
          "output_type": "stream",
          "name": "stdout",
          "text": [
            "this is a stringthis is also a string\n"
          ]
        },
        {
          "output_type": "execute_result",
          "data": {
            "text/plain": [
              "str"
            ]
          },
          "metadata": {},
          "execution_count": 3
        }
      ]
    },
    {
      "cell_type": "code",
      "source": [
        "name = \"Harry\"\n",
        "print(name, 'has length', len(name))\n"
      ],
      "metadata": {
        "colab": {
          "base_uri": "https://localhost:8080/"
        },
        "id": "zITnl-Cw79fY",
        "outputId": "207c24d0-55b7-4533-f831-71013a98511a"
      },
      "execution_count": null,
      "outputs": [
        {
          "output_type": "stream",
          "name": "stdout",
          "text": [
            "Harry has length 5\n"
          ]
        }
      ]
    },
    {
      "cell_type": "code",
      "source": [
        "print(name[0])\n",
        "print(name[1])\n",
        "print(name[2])\n",
        "print(name[3])\n",
        "print(name[4])\n",
        "print(name[5])"
      ],
      "metadata": {
        "id": "Ekncrmuv8EGR"
      },
      "execution_count": null,
      "outputs": []
    },
    {
      "cell_type": "markdown",
      "source": [
        "**EXERCISE**"
      ],
      "metadata": {
        "id": "LgnXsZRr4db7"
      }
    },
    {
      "cell_type": "code",
      "source": [
        "# Write a Python program which accepts the user's first and last name and print them in reverse order with a space between them.\n",
        "# - - - - - - - - - - - - - - -\n",
        "# INPUT\n",
        "# Two strings, the name and the surname of a user respectively.\n",
        "# - - - - - - - - - - - - - - -\n",
        "# OUTPUT\n",
        "# A string resulting from the concatenation of surname and name (with a space between them).\n",
        "# - - - - - - - - - - - - - - -\n",
        "# EXAMPLE\n",
        "# Given as inputs the string \"Martina\" (name) and the string \"Olliaro\" (surname), the program below returns the string: \"Olliaro Martina\"\n",
        "\n",
        "firstName = input(\"Enter your name: \")\n",
        "lastName = input(\"Enter your surname: \")\n",
        "\n",
        "print(lastName + \" \" + firstName)"
      ],
      "metadata": {
        "id": "B_Se8k_xwHQd"
      },
      "execution_count": null,
      "outputs": []
    },
    {
      "cell_type": "code",
      "source": [
        "# Write a Python program to get a string from a given string where all occurrences\n",
        "# of its first character have been changed to '$', except the first char itself.\n",
        "# - - - - - - - - - - - - - - -\n",
        "# EXAMPLE\n",
        "# Given the string \"mamma\", the program returns the string: \"ma$$a\".\n",
        "\n",
        "word = input(\"Enter a word: \")\n",
        "\n",
        "char = word[0]\n",
        "word = word.replace(char, '$')\n",
        "word = char + word[1:]\n",
        "\n",
        "print(word)\n"
      ],
      "metadata": {
        "id": "XqO1sie64m3_"
      },
      "execution_count": null,
      "outputs": []
    },
    {
      "cell_type": "code",
      "source": [
        "# - - - - - - - - - - - - - - -\n",
        "# EXAMPLE\n",
        "# Given as inputs the string \"Hello\" and the string \"World!\", the program returns the string: \"Wollo Herld!\"\n",
        "\n",
        "word1 = input(\"Enter a word: \")\n",
        "word2 = input(\"Enter another word: \")\n",
        "\n",
        "newWord1 = word2[:2] + word1[2:]\n",
        "newWord2 = word1[:2] + word2[2:]\n",
        "\n",
        "newWord = newWord1 + \" \" + newWord2\n",
        "\n",
        "print(newWord)"
      ],
      "metadata": {
        "id": "FsgM4cMNwhlP"
      },
      "execution_count": null,
      "outputs": []
    },
    {
      "cell_type": "code",
      "source": [
        "# Write a Python program to get a string from a given string where all occurrences of its first character have been changed to '$', except the first char itself.\n",
        "# - - - - - - - - - - - - - - -\n",
        "# EXAMPLE\n",
        "# Given the string \"mamma\", the program returns the string: \"ma$$a\".\n",
        "\n",
        "word = input(\"Enter a word: \")\n",
        "\n",
        "char = word[0]\n",
        "word = word.replace(char, '$')\n",
        "word = char + word[1:]\n",
        "\n",
        "print(word)\n"
      ],
      "metadata": {
        "id": "cg8Kn2p0ILSp"
      },
      "execution_count": null,
      "outputs": []
    },
    {
      "cell_type": "code",
      "source": [
        "# Write a Python program to find the first appearance of the\n",
        "# substring 'not' and 'poor' from a given string.\n",
        "# If 'not' precedes the 'poor', replace the whole 'not'...'poor'\n",
        "# substring with 'good'.\n",
        "\n",
        "text = input(\"Enter a string: \")\n",
        "\n",
        "# find() method finds the first occurrence of the specified value\n",
        "snot = text.find('not')\n",
        "spoor = text.find('poor')\n",
        "\n",
        "if (spoor > snot):\n",
        "    # replace() method replaces a specified phrase with another specified phrase\n",
        "    text = text.replace(text[snot:(spoor+4)], 'good', 1)\n",
        "\n",
        "print(text)\n",
        "\n"
      ],
      "metadata": {
        "id": "AQOIx4G4Ie8K"
      },
      "execution_count": null,
      "outputs": []
    },
    {
      "cell_type": "code",
      "source": [
        "# Write a Python program to get a single string from two given strings, separated by a space and swap the first two characters of each string.\n",
        "# - - - - - - - - - - - - - - -\n",
        "# EXAMPLE\n",
        "# Given as inputs the string \"Hello\" and the string \"World!\", the program returns the string: \"Wollo Herld!\"\n",
        "\n",
        "word1 = input(\"Enter a word: \")\n",
        "word2 = input(\"Enter another word: \")\n",
        "\n",
        "newWord1 = word2[:2] + word1[2:]\n",
        "newWord2 = word1[:2] + word2[2:]\n",
        "\n",
        "newWord = newWord1 + \" \" + newWord2\n",
        "\n",
        "print(newWord)\n",
        "\n",
        "\n",
        "\n"
      ],
      "metadata": {
        "id": "y2IPis3GIOyF"
      },
      "execution_count": null,
      "outputs": []
    },
    {
      "cell_type": "markdown",
      "source": [
        "**LISTS**"
      ],
      "metadata": {
        "id": "kersIsNAClgB"
      }
    },
    {
      "cell_type": "code",
      "source": [
        "#Common error: Out of Range\n",
        "values = [2, 12, 30, 27]\n",
        "print(values[0])"
      ],
      "metadata": {
        "id": "GlrVpcNJCnfa"
      },
      "execution_count": null,
      "outputs": []
    },
    {
      "cell_type": "code",
      "source": [
        "values = [2, 12, 30, 27]\n",
        "print(values)"
      ],
      "metadata": {
        "id": "6Bg5FyhwCx8o"
      },
      "execution_count": null,
      "outputs": []
    },
    {
      "cell_type": "code",
      "source": [
        "#Operations on lists:\n",
        "names = [ ]\n",
        "names.append(\"Martina\")\n",
        "print(names)\n",
        "names.append(\"Eleonora\")\n",
        "print(names)"
      ],
      "metadata": {
        "colab": {
          "base_uri": "https://localhost:8080/"
        },
        "id": "Q86TGc0VC3wV",
        "outputId": "5b8d4264-332a-4a4f-ddf2-224a3aa7158f"
      },
      "execution_count": null,
      "outputs": [
        {
          "output_type": "stream",
          "name": "stdout",
          "text": [
            "['Martina']\n",
            "['Martina', 'Eleonora']\n"
          ]
        }
      ]
    },
    {
      "cell_type": "code",
      "source": [
        "#Find an element:\n",
        "names = [\"Martina\", \"Andrea\", \"Eleonora\"]\n",
        "if \"Martina\" in names :\n",
        "  print(\"The name Martina is present.\")"
      ],
      "metadata": {
        "colab": {
          "base_uri": "https://localhost:8080/"
        },
        "id": "y9QlzCLtDB1R",
        "outputId": "aca9a2f6-980b-4411-efd5-a63a9c888fc8"
      },
      "execution_count": null,
      "outputs": [
        {
          "output_type": "stream",
          "name": "stdout",
          "text": [
            "The name Martina is present.\n"
          ]
        }
      ]
    },
    {
      "cell_type": "code",
      "source": [
        "# Concatenation\n",
        "names1 = [\"Martina\", \"Andrea\", \"Eleonora\"]\n",
        "names2 = [\"Marco\", \"Gianluca\", \"Diletta\"]\n",
        "newNames = names1 + names2\n",
        "print(newNames)"
      ],
      "metadata": {
        "colab": {
          "base_uri": "https://localhost:8080/"
        },
        "id": "hJ4BE4SfDN0Q",
        "outputId": "e19d77bb-b258-4829-b7a1-be61961e0d13"
      },
      "execution_count": null,
      "outputs": [
        {
          "output_type": "stream",
          "name": "stdout",
          "text": [
            "['Martina', 'Andrea', 'Eleonora', 'Marco', 'Gianluca', 'Diletta']\n"
          ]
        }
      ]
    },
    {
      "cell_type": "code",
      "source": [
        "#Sum, maximum, minimum\n",
        "numbers = [10, 6, 1]\n",
        "sum(numbers) # returns 17\n",
        "names = [\"Martina\", \"Andrea\", \"Eleonora\"]\n",
        "max(numbers) # returns 10\n",
        "min(names) # returns “Andrea\""
      ],
      "metadata": {
        "id": "K0Tc6Bl4DdvE"
      },
      "execution_count": null,
      "outputs": []
    },
    {
      "cell_type": "code",
      "source": [
        "#CREDITS: Alfio Ferrara\n",
        "# !wget: used to download files directly from a URL to your Colab environment.\n",
        "\n",
        "!wget https://raw.githubusercontent.com/umilISLab/midh/main/data/parole_italiane.txt\n",
        "\n",
        "infile = open('parole_italiane.txt', 'r')\n",
        "content = infile.read()\n",
        "words = content.split('\\n')\n",
        "del(words[-1])\n",
        "type(words)"
      ],
      "metadata": {
        "id": "tXjVwpYk7VpY",
        "outputId": "9a57d530-b812-46c7-b0b1-0d1a58b05b95",
        "colab": {
          "base_uri": "https://localhost:8080/"
        }
      },
      "execution_count": 7,
      "outputs": [
        {
          "output_type": "stream",
          "name": "stdout",
          "text": [
            "--2024-10-03 13:45:31--  https://raw.githubusercontent.com/umilISLab/midh/main/data/parole_italiane.txt\n",
            "Resolving raw.githubusercontent.com (raw.githubusercontent.com)... 185.199.108.133, 185.199.109.133, 185.199.110.133, ...\n",
            "Connecting to raw.githubusercontent.com (raw.githubusercontent.com)|185.199.108.133|:443... connected.\n",
            "HTTP request sent, awaiting response... 200 OK\n",
            "Length: 53119 (52K) [text/plain]\n",
            "Saving to: ‘parole_italiane.txt.1’\n",
            "\n",
            "\rparole_italiane.txt   0%[                    ]       0  --.-KB/s               \rparole_italiane.txt 100%[===================>]  51.87K  --.-KB/s    in 0.01s   \n",
            "\n",
            "2024-10-03 13:45:31 (5.04 MB/s) - ‘parole_italiane.txt.1’ saved [53119/53119]\n",
            "\n"
          ]
        },
        {
          "output_type": "execute_result",
          "data": {
            "text/plain": [
              "list"
            ]
          },
          "metadata": {},
          "execution_count": 7
        }
      ]
    },
    {
      "cell_type": "code",
      "source": [
        "len(words)"
      ],
      "metadata": {
        "id": "g8ci2npn7gfg"
      },
      "execution_count": null,
      "outputs": []
    },
    {
      "cell_type": "code",
      "source": [
        "words"
      ],
      "metadata": {
        "id": "p1FNEAIX7i5w"
      },
      "execution_count": null,
      "outputs": []
    },
    {
      "cell_type": "code",
      "source": [
        "words[-1]"
      ],
      "metadata": {
        "id": "NPDeL7ZIERG3"
      },
      "execution_count": null,
      "outputs": []
    },
    {
      "cell_type": "markdown",
      "source": [
        "**NUMBERS**"
      ],
      "metadata": {
        "id": "__FvhLkA7Jp9"
      }
    },
    {
      "cell_type": "code",
      "source": [
        "a = \"8\"\n",
        "b = 4\n",
        "c = b + a"
      ],
      "metadata": {
        "id": "rPone-Vj7Iyh"
      },
      "execution_count": null,
      "outputs": []
    },
    {
      "cell_type": "code",
      "source": [
        "a, b = 5, 6"
      ],
      "metadata": {
        "id": "ygsZolWD7Px3"
      },
      "execution_count": null,
      "outputs": []
    },
    {
      "cell_type": "code",
      "source": [
        "# EXERCISE:\n",
        "# Write a Python program which accepts the radius of a circle from the user and compute the area.\n",
        "\n",
        "from math import pi\n",
        "\n",
        "radius = float(input(\"Enter the radius of the circle: \"))\n",
        "\n",
        "areaCircle = pi * radius**2\n",
        "\n",
        "print(\"The area of the circle with radius \", radius, \" is: \", areaCircle)\n"
      ],
      "metadata": {
        "colab": {
          "base_uri": "https://localhost:8080/"
        },
        "id": "jlXo0FT3uKEy",
        "outputId": "22b1a448-85a2-41c3-e8fd-e0c256992c37"
      },
      "execution_count": null,
      "outputs": [
        {
          "output_type": "stream",
          "name": "stdout",
          "text": [
            "Enter the radius of the circle: 50\n",
            "The area of the circle with radius  50.0  is:  7853.981633974483\n"
          ]
        }
      ]
    },
    {
      "cell_type": "code",
      "source": [
        "# Write a Python program to check whether the last digit of a number\n",
        "# (entered by user) is divisible by 3 or not.\n",
        "\n",
        "# Assumption: only integers can be taken as input\n",
        "num = int(input(\"Enter an integer number: \"))\n",
        "\n",
        "# Computes the last digit of a number\n",
        "# Any number % 10 will return the last digit\n",
        "lastDigit = num % 10\n",
        "\n",
        "if (lastDigit % 3) == 0:\n",
        "    print(\"The last digit of \", num, \" is divisible by 3.\")\n",
        "else:\n",
        "    print(\"The last digit of \", num, \" is not divisible by 3.\")\n"
      ],
      "metadata": {
        "id": "zpTMr725IUZP"
      },
      "execution_count": null,
      "outputs": []
    },
    {
      "cell_type": "markdown",
      "source": [
        "**LOOPS**"
      ],
      "metadata": {
        "id": "JKiunQVtD7wl"
      }
    },
    {
      "cell_type": "code",
      "source": [
        "x = 0\n",
        "while x < 10:\n",
        "    print(x)\n",
        "    x += 1\n",
        "print('fine')"
      ],
      "metadata": {
        "id": "cI_uEc7UD9Tg"
      },
      "execution_count": null,
      "outputs": []
    },
    {
      "cell_type": "code",
      "source": [
        "s = 0\n",
        "for x in words:\n",
        "    c = len(x)\n",
        "    s += c\n",
        "print(s / len(words))"
      ],
      "metadata": {
        "id": "BuENTd_FEBLB"
      },
      "execution_count": null,
      "outputs": []
    },
    {
      "cell_type": "markdown",
      "source": [
        "**ELIF STRUCTURE**"
      ],
      "metadata": {
        "id": "MQoIbbODEFn9"
      }
    },
    {
      "cell_type": "code",
      "source": [
        "x = 0\n",
        "if x > 0:\n",
        "    print('Positive number')\n",
        "elif x == 0:\n",
        "    print('Zero')\n",
        "else:\n",
        "    print('Negative number')"
      ],
      "metadata": {
        "id": "0BpY2J07EEaJ"
      },
      "execution_count": null,
      "outputs": []
    },
    {
      "cell_type": "markdown",
      "source": [
        "**DICTIONARIES**"
      ],
      "metadata": {
        "id": "7D5aofEyIJDS"
      }
    },
    {
      "cell_type": "code",
      "source": [
        "contacts = {\"Martina\": 329, \"Eleonora\": 427, \"Andrea\": 782}\n",
        "\n",
        "if \"Martina\" in contacts:\n",
        "    print(f\"The phone number of Martina is {contacts['Martina']}\")\n"
      ],
      "metadata": {
        "colab": {
          "base_uri": "https://localhost:8080/"
        },
        "id": "Cb4uRlOYIM-K",
        "outputId": "1282e4f7-0e4b-4005-a291-c160851f19fe"
      },
      "execution_count": null,
      "outputs": [
        {
          "output_type": "stream",
          "name": "stdout",
          "text": [
            "The phone number of Martina is 329\n"
          ]
        }
      ]
    },
    {
      "cell_type": "code",
      "source": [
        "contacts[\"Marco\"] = 563\n",
        "\n",
        "print(contacts)"
      ],
      "metadata": {
        "colab": {
          "base_uri": "https://localhost:8080/"
        },
        "id": "HM4mJXGUJIhN",
        "outputId": "1264f823-8163-40df-d8c7-e2f7ff9b20d9"
      },
      "execution_count": null,
      "outputs": [
        {
          "output_type": "stream",
          "name": "stdout",
          "text": [
            "{'Martina': 329, 'Eleonora': 427, 'Andrea': 782, 'Marco': 563}\n"
          ]
        }
      ]
    }
  ]
}